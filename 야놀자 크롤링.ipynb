{
 "cells": [
  {
   "cell_type": "code",
   "execution_count": 1,
   "metadata": {},
   "outputs": [],
   "source": [
    "class Yanolja:\n",
    "    def __init__(self, name, img, price ):\n",
    "        self.name = name\n",
    "        self.img = img\n",
    "        self.price =price\n",
    "    def __repr__(self):\n",
    "        return f'{self.img} {self.name}, {self.price}\\n'"
   ]
  },
  {
   "cell_type": "code",
   "execution_count": 2,
   "metadata": {},
   "outputs": [],
   "source": [
    "import requests\n",
    "from bs4 import BeautifulSoup\n",
    "request = requests.get(\"http://www.yapen.co.kr\")\n",
    "\n",
    "response = request.text\n",
    "\n",
    "soup = BeautifulSoup(response, 'lxml')\n"
   ]
  },
  {
   "cell_type": "code",
   "execution_count": 3,
   "metadata": {},
   "outputs": [],
   "source": [
    "title = soup.select('div.pensionName')\n",
    "img_file = soup.select('img.pensionImg')\n",
    "price=soup.select('div.price')\n",
    "title_list = []\n",
    "img_file_list= []\n",
    "price_list = []\n",
    "for i in title:\n",
    "    title_list.append(i.get_text())\n",
    "for i in img_file:\n",
    "    img_file_list.append(i.get('src'))\n",
    "for i in price:\n",
    "    price_list.append(i.get_text())"
   ]
  },
  {
   "cell_type": "code",
   "execution_count": 4,
   "metadata": {},
   "outputs": [],
   "source": [
    "ya = []\n",
    "for i in range(len(title_list)):\n",
    "    ya.append(Yanolja(name=title_list[i], price=price_list[i], img=img_file_list[i]))"
   ]
  },
  {
   "cell_type": "code",
   "execution_count": 5,
   "metadata": {
    "scrolled": false
   },
   "outputs": [
    {
     "name": "stdout",
     "output_type": "stream",
     "text": [
      "[https://img.yapen.co.kr/pension/basic/24089/480x0/0b4b4d22801fc4449c33709bc32c37b0.JPG 거제도 아쿠아리우스두모펜션[MD추천], 89,000원~\n",
      ", https://img.yapen.co.kr/pension/basic/25567/480x0/c54a10f7dcacb0d0fd4fd50e929b8c57.jpg 부산 브이비치펜션[MD추천], 79,000원~\n",
      ", https://img.yapen.co.kr/pension/basic/20405/480x0/01feaf572f89bcf38b323962cf488608.jpg 대부도 애플스파펜션[MD추천], 69,000원~\n",
      ", https://img.yapen.co.kr/pension/basic/23813/480x0/cad938e9d01eeef850d3deea6225d0e5.jpg 거제도 드림여행펜션[MD추천], 139,000원~\n",
      ", https://img.yapen.co.kr/pension/basic/22308/480x0/bea2a5d1dfb699bd914ff74cff43a3bf.jpg 거제도 마린캐슬펜션[MD추천], 79,000원~\n",
      ", https://img.yapen.co.kr/pension/basic/22481/480x0/b5f2961b15f21fa81106447a1b2bd466.jpg 거제도 두모실펜션[MD추천], 49,000원~\n",
      ", https://img.yapen.co.kr/pension/basic/25500/480x0/c01f3701aff6d68a1e2e603c12e5cea7.jpg 거제도 숲속에아침펜션[MD추천], 79,000원~\n",
      ", https://img.yapen.co.kr/pension/basic/23946/480x0/3b801105e8e230de016ea055bb86892f.jpg 거제도 더끌림펜션[MD추천], 49,000원~\n",
      ", https://img.yapen.co.kr/pension/basic/21665/480x0/e9fbce1533283cf919afb88e0f320e29.jpg 거제도 어우름펜션, 80,000원~\n",
      ", https://img.yapen.co.kr/pension/basic/24140/480x0/eae40424c6e4eab873dc1777656c0970.jpg 양평 다브펜션, 89,000원~\n",
      ", https://img.yapen.co.kr/pension/basic/25622/480x0/ede90212594a99a524e5aa994868835b.jpg 홍천 픽션하우스펜션[MD추천], 79,000원~\n",
      ", https://img.yapen.co.kr/pension/basic/26974/480x0/a73303e58ed09c98302a4ab2b1ec2d21.jpg 양평 쁘띠샬레펜션[MD추천], 79,000원~\n",
      ", https://img.yapen.co.kr/pension/basic/25960/480x0/20d7fd16998296f4dbd292b0127a1b04.jpg 남해 바이킹펜션[전객실애견동반가능], 59,000원~\n",
      ", https://img.yapen.co.kr/pension/basic/23569/480x0/65b2a19a747a9d0ef163e435ec351de8.jpg 태안 일번지펜션, 90,000원~\n",
      ", https://img.yapen.co.kr/pension/basic/28365/480x0/7dabf1928c0097f6214d1f307739b0d1.jpg 가평 아모르펜션, 79,000원~\n",
      ", https://img.yapen.co.kr/pension/basic/19704/480x0/b218193e4b24251b256a9702f5230567.jpg 춘천(남이섬) 오렌지펜션, 40,000원~\n",
      ", https://img.yapen.co.kr/pension/basic/26049/480x0/b9fd74fd5b726b314a31ca711902531e.jpg 경주 M&K펜션[수영장, 스파펜션], 95,000원~\n",
      ", https://img.yapen.co.kr/pension/basic/23927/480x0/ba5bbbee70587211d54564d62a05d98e.jpg 거제도 그린하우스펜션, 40,000원~\n",
      ", https://img.yapen.co.kr/pension/basic/28111/480x0/074160aa5b227835a16933932632a287.jpg 양양 트윈비치펜션, 39,000원~\n",
      ", https://img.yapen.co.kr/pension/basic/26893/480x0/8a34bcc44047f0ca1b468a04fa5ea848.jpg 가평 몬트샤인펜션, 80,000원~\n",
      ", https://img.yapen.co.kr/pension/basic/22324/480x0/0d47e160cbb647753b03c0d31ea4aa17.JPG 가평 노팅힐펜션, 89,000원~\n",
      ", https://img.yapen.co.kr/pension/basic/23248/480x0/558716d572cd3895378f2f100e708cdf.jpg 홍천 보금자리펜션, 69,000원~\n",
      ", https://img.yapen.co.kr/pension/basic/23363/480x0/365fe931b457a2c3b244422067d8c00b.jpg 여수 엔펜션, 80,000원~\n",
      ", https://img.yapen.co.kr/pension/basic/31549/480x0/4b37b595ec704a31a78cc6570fe4a11e.JPG 산청 뉴그린펜션, 130,000원~\n",
      ", https://img.yapen.co.kr/pension/basic/31554/480x0/07adc39abc2928887996ccef5a36c168.JPG 제주 로이하우스펜션[18.7월신축][준비중], 84,800원~\n",
      ", https://img.yapen.co.kr/pension/basic/31548/480x0/1553d2598681d2269c017a201a92729b.jpg 강릉 시크릿펜션, 130,000원~\n",
      ", https://img.yapen.co.kr/pension/basic/31553/480x0/0f9da569cfe5d9e143a9bd824dc1a34e.jpg 부안(변산반도) 노을빛언덕펜션, 80,000원~\n",
      ", https://img.yapen.co.kr/pension/basic/31552/480x0/b92e546a462a35b30136b6a1ef7503a4.jpg 양양 수산모텔펜션, 80,000원~\n",
      ", https://img.yapen.co.kr/pension/basic/31546/480x0/8b6525ff1eb17a19711cdbbd1cc0d7ec.jpg 양평 미리내힐빙클럽펜션[준비중], 132,000원~\n",
      ", https://img.yapen.co.kr/pension/basic/31544/480x0/d132e3a5035ddb700c5e5f66fc84792e.jpg 삼척 카라펜션[18.6월신축], 158,000원~\n",
      ", https://img.yapen.co.kr/pension/basic/31519/480x0/e8a87733cdc93c0d54c246f01b92e42d.jpg 남해 캐슬529펜션, 400,000원~\n",
      "]\n"
     ]
    }
   ],
   "source": [
    "print(ya)"
   ]
  },
  {
   "cell_type": "code",
   "execution_count": null,
   "metadata": {},
   "outputs": [],
   "source": []
  },
  {
   "cell_type": "code",
   "execution_count": null,
   "metadata": {},
   "outputs": [],
   "source": []
  }
 ],
 "metadata": {
  "kernelspec": {
   "display_name": "Python 3",
   "language": "python",
   "name": "python3"
  },
  "language_info": {
   "codemirror_mode": {
    "name": "ipython",
    "version": 3
   },
   "file_extension": ".py",
   "mimetype": "text/x-python",
   "name": "python",
   "nbconvert_exporter": "python",
   "pygments_lexer": "ipython3",
   "version": "3.6.5"
  }
 },
 "nbformat": 4,
 "nbformat_minor": 2
}
